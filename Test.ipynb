{
 "cells": [
  {
   "cell_type": "code",
   "execution_count": 1,
   "metadata": {},
   "outputs": [],
   "source": [
    "from dao.mongodbdao import MongoDBDao\n",
    "\n",
    "dao = MongoDBDao({\n",
    "    \"host\": \"127.0.0.1\",\n",
    "    \"db\": \"default\",\n",
    "    \"words_by_length_collection\": \"words_by_length\",\n",
    "    \"username\": \"root\",\n",
    "    \"password\": \"spezanw\"\n",
    "})\n",
    "dao.delete_all()"
   ]
  },
  {
   "cell_type": "code",
   "execution_count": 2,
   "metadata": {},
   "outputs": [
    {
     "data": {
      "text/plain": [
       "{4: ['Wehr', 'Baum'], 7: ['Wort322', 'Polizei', 'Wort322'], 9: ['grünerAst']}"
      ]
     },
     "execution_count": 2,
     "metadata": {},
     "output_type": "execute_result"
    }
   ],
   "source": [
    "from words_by_length_updater.updater import Updater\n",
    "\n",
    "updater = Updater(dao)\n",
    "updater.put([\"hi\", \"Wort2\", \"Wort322\", \"Wort3\"])\n",
    "updater.put([\"Polizei\", \"derPolizeu\", \"Mütze\"])\n",
    "updater.put([\"Hut\", \"Baum\", \"Feuer\"])\n",
    "updater.put([\"Wehr\", \"grünerAst\", \"Wort322\"])"
   ]
  },
  {
   "cell_type": "code",
   "execution_count": 3,
   "metadata": {},
   "outputs": [],
   "source": [
    "#dao.insert_some()"
   ]
  },
  {
   "cell_type": "code",
   "execution_count": 4,
   "metadata": {},
   "outputs": [
    {
     "name": "stdout",
     "output_type": "stream",
     "text": [
      "[['hi'], ['Wort322', 'Polizei', 'Wort322']]\n"
     ]
    }
   ],
   "source": [
    "print(dao.getListsForLengths([1, 2, 35, 7]))"
   ]
  },
  {
   "cell_type": "code",
   "execution_count": 5,
   "metadata": {},
   "outputs": [
    {
     "name": "stdout",
     "output_type": "stream",
     "text": [
      "{2: ['hi'], 5: ['Feuer', 'Mütze', 'Wort2', 'Wort3'], 7: ['Wort322', 'Polizei', 'Wort322'], 10: ['derPolizeu'], 3: ['Hut'], 4: ['Wehr', 'Baum'], 9: ['grünerAst']}\n"
     ]
    }
   ],
   "source": [
    "print(dao.get_all())"
   ]
  }
 ],
 "metadata": {
  "kernelspec": {
   "display_name": "Python 3",
   "language": "python",
   "name": "python3"
  },
  "language_info": {
   "codemirror_mode": {
    "name": "ipython",
    "version": 3
   },
   "file_extension": ".py",
   "mimetype": "text/x-python",
   "name": "python",
   "nbconvert_exporter": "python",
   "pygments_lexer": "ipython3",
   "version": "3.6.4"
  }
 },
 "nbformat": 4,
 "nbformat_minor": 2
}
