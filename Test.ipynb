{
 "cells": [
  {
   "cell_type": "code",
   "execution_count": 1,
   "metadata": {},
   "outputs": [],
   "source": [
    "from dao.mongodbdao import MongoDBDao\n",
    "\n",
    "dao = MongoDBDao({\n",
    "    \"host\": \"127.0.0.1\",\n",
    "    \"db\": \"default\",\n",
    "    \"words_by_length_collection\": \"words_by_length\",\n",
    "    \"username\": \"root\",\n",
    "    \"password\": \"spezanw\"\n",
    "})"
   ]
  },
  {
   "cell_type": "code",
   "execution_count": 2,
   "metadata": {},
   "outputs": [
    {
     "data": {
      "text/plain": [
       "'from words_by_length_updater.updater import Updater\\n\\nupdater = Updater(dao)\\nupdater.put([\"hi\", \"Wort2\", \"Wort322\", \"Wort3\"])\\nupdater.put([\"Polizei\", \"derPolizeu\", \"Mütze\"])\\nupdater.put([\"Hut\", \"Baum\", \"Feuer\"])\\nupdater.put([\"Wehr\", \"grünerAst\", \"Wort322\"])'"
      ]
     },
     "execution_count": 2,
     "metadata": {},
     "output_type": "execute_result"
    }
   ],
   "source": [
    "\"\"\"from words_by_length_updater.updater import Updater\n",
    "\n",
    "updater = Updater(dao)\n",
    "updater.put([\"hi\", \"Wort2\", \"Wort322\", \"Wort3\"])\n",
    "updater.put([\"Polizei\", \"derPolizeu\", \"Mütze\"])\n",
    "updater.put([\"Hut\", \"Baum\", \"Feuer\"])\n",
    "updater.put([\"Wehr\", \"grünerAst\", \"Wort322\"])\"\"\""
   ]
  },
  {
   "cell_type": "code",
   "execution_count": 3,
   "metadata": {},
   "outputs": [],
   "source": [
    "#dao.insert_some()"
   ]
  },
  {
   "cell_type": "code",
   "execution_count": 6,
   "metadata": {},
   "outputs": [
    {
     "name": "stdout",
     "output_type": "stream",
     "text": [
      "[(  1,   43) (  2,  207) (  3,  613) (  4,  874) (  5, 1536) (  6, 1869)\n",
      " (  7, 2293) (  8, 2675) (  9, 3336) ( 10, 3478) ( 11, 3574) ( 12, 3234)\n",
      " ( 13, 2676) ( 14, 2104) ( 15, 1735) ( 16, 1311) ( 17, 1093) ( 18,  845)\n",
      " ( 19,  660) ( 20,  492) ( 21,  368) ( 22,  320) ( 23,  248) ( 24,  137)\n",
      " ( 25,  111) ( 26,   80) ( 27,   69) ( 28,   52) ( 29,   43) ( 30,   31)\n",
      " ( 31,   28) ( 32,   17) ( 33,   14) ( 34,    7) ( 35,    3) ( 36,   10)\n",
      " ( 37,    8) ( 38,    7) ( 39,    3) ( 40,    7) ( 41,    3) ( 42,    1)\n",
      " ( 43,    4) ( 44,    5) ( 45,    1) ( 46,    2) ( 47,    3) ( 48,    1)\n",
      " ( 50,    1) ( 51,    1) ( 52,    1) ( 57,    1) ( 58,    1) ( 60,    1)\n",
      " ( 63,    1) ( 64,    1) ( 67,    1) ( 73,    1) ( 75,    2) ( 76,    1)\n",
      " ( 79,    1) ( 84,    1) ( 91,    2) ( 92,    1) (145,    1)]\n"
     ]
    },
    {
     "data": {
      "image/png": "[encoded data removed]",
      "text/plain": [
       "<matplotlib.figure.Figure at 0x11f93b198>"
      ]
     },
     "metadata": {},
     "output_type": "display_data"
    },
    {
     "data": {
      "text/plain": [
       "<matplotlib.figure.Figure at 0x11f93b0f0>"
      ]
     },
     "metadata": {},
     "output_type": "display_data"
    }
   ],
   "source": [
    "import numpy as np\n",
    "import matplotlib.pyplot as plt\n",
    "import matplotlib as plt_\n",
    "\n",
    "all_words_with_lengths = dao.get_all()\n",
    "lengths_n = []\n",
    "for l in all_words_with_lengths.keys():\n",
    "    lengths_n.append((l, len(all_words_with_lengths[l])))\n",
    "\n",
    "dtype = [('len', int), ('amount', int)]      \n",
    "lengths_ = np.array(lengths_n, dtype)                     \n",
    "sorted_lenghts_n = np.sort(lengths_, order='len')\n",
    "\n",
    "print(sorted_lenghts_n)\n",
    "\n",
    "x = [l[0] for l in sorted_lenghts_n]\n",
    "y = [l[1] for l in sorted_lenghts_n]\n",
    "\n",
    "fig, ax = plt.subplots(figsize=(9,9))\n",
    "ax.set_xlabel('Wortlänge')\n",
    "ax.set_ylabel('Anzahl der Wörter')\n",
    "plt_.rcParams.update({'font.size': 18, 'font.family':'Arial'})\n",
    "ax.bar(x[:30], y[:30])\n",
    "plt.figure()\n",
    "plt.show()"
   ]
  },
  {
   "cell_type": "code",
   "execution_count": null,
   "metadata": {},
   "outputs": [],
   "source": []
  }
 ],
 "metadata": {
  "kernelspec": {
   "display_name": "Python 3",
   "language": "python",
   "name": "python3"
  },
  "language_info": {
   "codemirror_mode": {
    "name": "ipython",
    "version": 3
   },
   "file_extension": ".py",
   "mimetype": "text/x-python",
   "name": "python",
   "nbconvert_exporter": "python",
   "pygments_lexer": "ipython3",
   "version": "3.7.2"
  }
 },
 "nbformat": 4,
 "nbformat_minor": 2
}
