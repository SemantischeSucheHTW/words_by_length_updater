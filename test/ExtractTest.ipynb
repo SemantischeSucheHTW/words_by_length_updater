{
 "cells": [
  {
   "cell_type": "code",
   "execution_count": 1,
   "metadata": {},
   "outputs": [],
   "source": [
    "#first step: pip install beautifulsoup4"
   ]
  },
  {
   "cell_type": "code",
   "execution_count": 4,
   "metadata": {},
   "outputs": [
    {
     "name": "stdout",
     "output_type": "stream",
     "text": [
      "URL: test/examples/exp_newest.html\n",
      "Title: Einbruch in Bank - Täter entkommen mit Beute\n",
      "Location: Treptow-Köpenick\n",
      "Date: 2019-01-01\n",
      "Text: Unbekannte sind in den Wertfächerraum einer Bank in Baumschulenweg eingebrochen und haben mehrere Wertfächer gewaltsam geöffnet. Mitarbeiter der zuständigen Sicherheitsfirma stellten heute gegen 3.30 Uhr die aufgebrochenen Fächer der Bank in der Baumschulenstraße fest. Nach bisherigen Kenntnisstand haben sich Unbekannte in einem unterhalb der Bank verlaufenden Kellerraum Zutritt verschafft. Dort haben sie die Decke des Raumes aufgestemmt und sind in den Wertfächerraum der Bank eingebrochen. Die Ermittlungen zu den gestohlenen Wertsachen dauern an und werden von einem Fachkommissariat des Landeskriminalamtes geführt.\n",
      "Nr: 0012\n",
      "\n",
      "\n",
      "Error while extracting nr from article\n",
      "URL: test/examples/exp_2dates_noNr.html\n",
      "Title: Einbruch in Möbelfirma – Polizei sucht Zeugen\n",
      "Location: Charlottenburg-Wilmersdorf\n",
      "Date: 2013-10-28\n",
      "Text: In der Nacht von Dienstag, 23. Juli 2013, zu Mittwoch, 24. Juli 2013, brachen mindestens drei unbekannte Täter in die Büroräume der Firma in der Lietzenburger Straße ein. Hier entwendeten die Gesuchten einen Stahlschrank, in dem sich Geld sowie eine Firmen-EC-Karte mit den entsprechenden Zugangsdaten befanden. In der Folge bezahlten die Täter mit der gestohlenen EC-Karte am 24. Juli 2013 gegen 12 Uhr in einem NP-Markt in der Kreuzberger Prinzenstraße Waren an der Kasse und hoben einen Tag später gegen 0 Uhr 35 an einem Geldautomaten einer Sparkassenfiliale in der Turmstraße in Moabit Geld ab.\n",
      "Nr: None\n",
      "\n",
      "\n",
      "URL: test/examples/exp_2dates.html\n",
      "Title: Körperverletzung in Straßenbahn\n",
      "Location: Treptow-Köpenick\n",
      "Date: 2014-07-17\n",
      "Text: Ein junger Mann stieg am 25. Juli 2013 gegen 21.19 Uhr in Berlin Oberschöneweide in die Straßenbahn in Richtung Pasedagplatz. Während der Fahrt beobachtete er eine dreiköpfige Gruppe, die in der Bahn Bier konsumierte und augenscheinlich einen ihnen unbekannten Fahrgast belästigte. An der Haltestelle Wilhelminenhof- Ecke Edisonstraße schritt der 19-Jährige ein und sprach die Gruppe auf ihr Verhalten an.Der Wortwechsel zwischen dem Geschädigten und der Gruppe, aus welcher der spätere Tatverdächtige hervorging, steigerte sich von verbalen Streitigkeiten zu einem körperlichen Übergriff auf den 19-Jährigen.Der Geschädigte erlitt nach zwei gezielten Schlägen ins Gesicht heftiges Nasenbluten und verließ die Straßenbahn. Der unbekannte Täter und seine Begleiter fuhren weiter in Richtung Pasedagplatz.\n",
      "Nr: 1680\n",
      "\n",
      "\n",
      "URL: test/examples/exp_normal_alt.html\n",
      "Title: Unbekannte behindern Berufsverkehr\n",
      "Location: Neukölln\n",
      "Date: 2014-10-06\n",
      "Text: In den frühen Morgenstunden kam es zu erheblichen Störungen im Berufsverkehr. Nach derzeitigen Erkenntnissen machten sich Täter in Gropiusstadt in einem U-Bahntunnel im Streckenabschnitt zwischen U-Bahnhof Lipschitzallee und U-Bahnhof Johannisthaler Chaussee an Stromleitungen zu schaffen. Auf einer Länge von ca. 250 Metern lösten sie sämtliche Kabelschellen und durchtrennten ein Kupferkabel. Als gegen 3.55 Uhr ein Zug in den Tunnel einfuhr, blieb ein Stromabnehmer des U-Bahnwagens an herunterhängenden Kabelenden hängen und „räufelte“ große Teile der von der Tunnelwand gelösten Kupferleitungen auf. Mit dem hierbei verursachten Kurzschluss wurde der Zugverkehr bis 7.50 Uhr auf der U-Bahnlinie U7 zwischen den Bahnhöfen Rudow und Britz-Süd unterbrochen.Ermittler der Polizei und Experten der Berliner Verkehrsbetriebe prüfen zurzeit den Umfang des Schadens. Die Ermittlungen zu den bisher unbekannten Tätern dauern an.\n",
      "Nr: 2336\n",
      "\n",
      "\n"
     ]
    }
   ],
   "source": [
    "from test.local_test_dao import LocalTestDao\n",
    "from extractor.HTMLExtractor import HTMLExtractor\n",
    "from test.Order import Order\n",
    "from dao.RawPageData import RawPageData\n",
    "\n",
    "dao = LocalTestDao()\n",
    "extr = HTMLExtractor(dao)\n",
    "\n",
    "prefix=\"test/examples/\"\n",
    "files=[\"exp_newest.html\", \"exp_2dates_noNr.html\", \"exp_2dates.html\", \"exp_normal_alt.html\"]\n",
    "for file in files:\n",
    "    extr.process(Order(prefix+file, None))"
   ]
  },
  {
   "cell_type": "code",
   "execution_count": null,
   "metadata": {},
   "outputs": [],
   "source": [
    "\n"
   ]
  },
  {
   "cell_type": "code",
   "execution_count": null,
   "metadata": {},
   "outputs": [],
   "source": []
  }
 ],
 "metadata": {
  "kernelspec": {
   "display_name": "Python 3",
   "language": "python",
   "name": "python3"
  },
  "language_info": {
   "codemirror_mode": {
    "name": "ipython",
    "version": 3
   },
   "file_extension": ".py",
   "mimetype": "text/x-python",
   "name": "python",
   "nbconvert_exporter": "python",
   "pygments_lexer": "ipython3",
   "version": "3.6.4"
  }
 },
 "nbformat": 4,
 "nbformat_minor": 2
}
